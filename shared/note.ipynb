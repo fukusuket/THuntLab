{
 "cells": [
  {
   "cell_type": "markdown",
   "metadata": {},
   "source": [
    "# Threat Hunting with MSTICPy\n",
    "\n",
    "This notebook demonstrates threat hunting capabilities using MSTICPy library."
   ]
  },
  {
   "cell_type": "code",
   "execution_count": null,
   "metadata": {},
   "outputs": [],
   "source": [
    "# Import required libraries\n",
    "import pandas as pd\n",
    "import numpy as np\n",
    "import matplotlib.pyplot as plt\n",
    "import seaborn as sns\n",
    "from datetime import datetime, timedelta\n",
    "\n",
    "# MSTICPy imports\n",
    "import msticpy as mp\n",
    "from msticpy.data import QueryProvider\n",
    "from msticpy.nbtools import *\n",
    "from msticpy.common.timespan import TimeSpan\n",
    "\n",
    "print(\"Libraries imported successfully!\")\n",
    "print(f\"MSTICPy version: {mp.__version__}\")"
   ]
  },
  {
   "cell_type": "code",
   "execution_count": null,
   "metadata": {},
   "outputs": [],
   "source": [
    "# Load sample threat hunting data from CSV\n",
    "df = pd.read_csv('/shared/hunt.csv')\n",
    "df['timestamp'] = pd.to_datetime(df['timestamp'])\n",
    "\n",
    "print(f\"Loaded {len(df)} threat hunting records\")\n",
    "df.head()"
   ]
  },
  {
   "cell_type": "code",
   "execution_count": null,
   "metadata": {},
   "outputs": [],
   "source": [
    "# Basic threat analysis\n",
    "print(\"Threat Type Distribution:\")\n",
    "print(df['threat_type'].value_counts())\n",
    "\n",
    "print(\"\\nSeverity Distribution:\")\n",
    "print(df['severity'].value_counts())\n",
    "\n",
    "print(\"\\nStatus Distribution:\")\n",
    "print(df['status'].value_counts())"
   ]
  },
  {
   "cell_type": "code",
   "execution_count": null,
   "metadata": {},
   "outputs": [],
   "source": [
    "# Visualize threat data\n",
    "fig, axes = plt.subplots(2, 2, figsize=(15, 10))\n",
    "\n",
    "# Threat type distribution\n",
    "df['threat_type'].value_counts().plot(kind='bar', ax=axes[0,0])\n",
    "axes[0,0].set_title('Threat Types')\n",
    "axes[0,0].tick_params(axis='x', rotation=45)\n",
    "\n",
    "# Severity distribution\n",
    "df['severity'].value_counts().plot(kind='pie', ax=axes[0,1])\n",
    "axes[0,1].set_title('Severity Levels')\n",
    "\n",
    "# Timeline of threats\n",
    "df.set_index('timestamp')['threat_type'].resample('D').count().plot(kind='line', ax=axes[1,0])\n",
    "axes[1,0].set_title('Threats Over Time')\n",
    "\n",
    "# Analyst performance\n",
    "df['analyst'].value_counts().plot(kind='bar', ax=axes[1,1])\n",
    "axes[1,1].set_title('Threats by Analyst')\n",
    "axes[1,1].tick_params(axis='x', rotation=45)\n",
    "\n",
    "plt.tight_layout()\n",
    "plt.show()"
   ]
  },
  {
   "cell_type": "code",
   "execution_count": null,
   "metadata": {},
   "outputs": [],
   "source": [
    "# IP address analysis using MSTICPy\n",
    "from msticpy.transform.iocextract import IoCExtract\n",
    "\n",
    "# Extract unique IP addresses\n",
    "source_ips = df['source_ip'].unique()\n",
    "dest_ips = df['destination_ip'].unique()\n",
    "all_ips = np.concatenate([source_ips, dest_ips])\n",
    "unique_ips = np.unique(all_ips)\n",
    "\n",
    "print(f\"Found {len(unique_ips)} unique IP addresses:\")\n",
    "for ip in unique_ips[:10]:  # Show first 10\n",
    "    print(f\"  {ip}\")\n",
    "\n",
    "if len(unique_ips) > 10:\n",
    "    print(f\"  ... and {len(unique_ips) - 10} more\")"
   ]
  },
  {
   "cell_type": "code",
   "execution_count": null,
   "metadata": {},
   "outputs": [],
   "source": [
    "# Critical threat analysis\n",
    "critical_threats = df[df['severity'] == 'Critical']\n",
    "print(f\"Critical Threats Analysis ({len(critical_threats)} records):\")\n",
    "print(\"=\"*50)\n",
    "\n",
    "for _, threat in critical_threats.iterrows():\n",
    "    print(f\"Timestamp: {threat['timestamp']}\")\n",
    "    print(f\"Type: {threat['threat_type']}\")\n",
    "    print(f\"Source: {threat['source_ip']} -> Destination: {threat['destination_ip']}\")\n",
    "    print(f\"Status: {threat['status']}\")\n",
    "    print(f\"Details: {threat['details']}\")\n",
    "    print(\"-\" * 40)"
   ]
  },
  {
   "cell_type": "code",
   "execution_count": null,
   "metadata": {},
   "outputs": [],
   "source": [
    "# Generate threat hunting report\n",
    "report = {\n",
    "    'total_threats': len(df),\n",
    "    'critical_threats': len(df[df['severity'] == 'Critical']),\n",
    "    'confirmed_threats': len(df[df['status'] == 'Confirmed']),\n",
    "    'unique_source_ips': len(df['source_ip'].unique()),\n",
    "    'unique_dest_ips': len(df['destination_ip'].unique()),\n",
    "    'date_range': f\"{df['timestamp'].min().date()} to {df['timestamp'].max().date()}\",\n",
    "    'most_common_threat': df['threat_type'].value_counts().index[0],\n",
    "    'most_active_analyst': df['analyst'].value_counts().index[0]\n",
    "}\n",
    "\n",
    "print(\"🔍 THREAT HUNTING SUMMARY REPORT\")\n",
    "print(\"=\" * 40)\n",
    "for key, value in report.items():\n",
    "    print(f\"{key.replace('_', ' ').title()}: {value}\")\n",
    "\n",
    "# Save report to file\n",
    "with open('/shared/threat_report.txt', 'w') as f:\n",
    "    f.write(\"THREAT HUNTING SUMMARY REPORT\\n\")\n",
    "    f.write(\"=\" * 40 + \"\\n\")\n",
    "    for key, value in report.items():\n",
    "        f.write(f\"{key.replace('_', ' ').title()}: {value}\\n\")\n",
    "\n",
    "print(\"\\n📄 Report saved to /shared/threat_report.txt\")"
   ]
  }
 ],
 "metadata": {
  "kernelspec": {
   "display_name": "Python 3",
   "language": "python",
   "name": "python3"
  },
  "language_info": {
   "codemirror_mode": {
    "name": "ipython",
    "version": 3
   },
   "file_extension": ".py",
   "mimetype": "text/x-python",
   "name": "python",
   "nbconvert_exporter": "python",
   "pygments_lexer": "ipython3",
   "version": "3.12.0"
  }
 },
 "nbformat": 4,
 "nbformat_minor": 4
}